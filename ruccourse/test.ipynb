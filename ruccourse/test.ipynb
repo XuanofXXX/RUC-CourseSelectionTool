{
 "cells": [
  {
   "cell_type": "code",
   "execution_count": 1,
   "metadata": {},
   "outputs": [],
   "source": [
    "import pickle as pkl"
   ]
  },
  {
   "cell_type": "code",
   "execution_count": 2,
   "metadata": {},
   "outputs": [
    {
     "data": {
      "text/plain": [
       "['*日语（1）', '*日语（1）', '*日语（1）']"
      ]
     },
     "execution_count": 2,
     "metadata": {},
     "output_type": "execute_result"
    }
   ],
   "source": [
    "with open(\"json_datas.pkl\", 'rb') as f:\n",
    "    data = pkl.load(f)\n",
    "[i['kcmc_name'] for i in data]"
   ]
  },
  {
   "cell_type": "code",
   "execution_count": 4,
   "metadata": {},
   "outputs": [
    {
     "data": {
      "text/plain": [
       "{'xkcscode7': '0',\n",
       " 'kkdwbh': '504900',\n",
       " 'xkfl': [],\n",
       " 'tzdlb_name': '正常',\n",
       " 'xkfs_name': '2',\n",
       " 'kkdw_name': '教务处',\n",
       " 'skls_name': {'jczy010id': 'c134d9530000WH',\n",
       "  'jczy013id': '2024-2025-1',\n",
       "  'queryFlag': '2',\n",
       "  'kkgl004id': '00410353483',\n",
       "  'name': ['校际交流成绩']},\n",
       " 'jczy007ids': None,\n",
       " 'jczy003id': '504900',\n",
       " 'kcbh': '21141044',\n",
       " 'ktmc_name': '*日语（1）01班',\n",
       " 'kcxz_name': None,\n",
       " 'kcmc_name': '*日语（1）',\n",
       " 'kcxz': None,\n",
       " 'xq_name': '中关村校区中关村校区',\n",
       " 'id': '00410353483',\n",
       " 'jczy013id': '2024-2025-1',\n",
       " 'zxs': '64',\n",
       " 'zxf': '2',\n",
       " 'kcdl': '1',\n",
       " 'kclb': '77',\n",
       " 'khfs': '1',\n",
       " 'kkgl00401id': None,\n",
       " 'szkclb': None,\n",
       " 'falb': '1',\n",
       " 'xkfsid': '2',\n",
       " 'xkgl017id': 'c134d9410000WH',\n",
       " 'xkgl019id': 'c134d94c0000WI',\n",
       " 'isTqxd': '0',\n",
       " 'xkzy': '',\n",
       " 'trz': '',\n",
       " 'tzdlb': '01',\n",
       " 'jczy010id': 'c134d9530000WH',\n",
       " 'skfscode': None,\n",
       " 'skfs_name': None,\n",
       " 'sksj': [{'zc': '1-16',\n",
       "   'zcmx': '1,2,3,4,5,6,7,8,9,10,11,12,13,14,15,16',\n",
       "   'kssj': 1600,\n",
       "   'jssj': 1730,\n",
       "   'xq': '7',\n",
       "   'jc': '0910',\n",
       "   'name': '星期日 09-10节 1-16周'},\n",
       "  {'zc': '1-16',\n",
       "   'zcmx': '1,2,3,4,5,6,7,8,9,10,11,12,13,14,15,16',\n",
       "   'kssj': 1400,\n",
       "   'jssj': 1530,\n",
       "   'xq': '7',\n",
       "   'jc': '0708',\n",
       "   'name': '星期日 07-08节 1-16周'}],\n",
       " 'xkcscode1': '1',\n",
       " 'xkcscode23': '0',\n",
       " 'sfglymkccode': False,\n",
       " 'sfglctkccode': False,\n",
       " 'kclbMapper': '77',\n",
       " 'xklbbh': '16',\n",
       " 'bllsZyId': 'c1348b360000WJ',\n",
       " 'isSxrz': '',\n",
       " 'language': 'zh',\n",
       " 'xxklbcode': '',\n",
       " 'xjc': '0',\n",
       " 'xkgl001id': 'c1343cb40000WH',\n",
       " 'zydata': {'xkgl019id': 'c134d94c0000WI',\n",
       "  'xklbbh': '16',\n",
       "  'kclbMapper': '77',\n",
       "  'kkgl004id': '00410353483',\n",
       "  'jczy013id': '2024-2025-1',\n",
       "  'isSxrz': '',\n",
       "  'xkgl001id': 'c1343cb40000WH'}}"
      ]
     },
     "execution_count": 4,
     "metadata": {},
     "output_type": "execute_result"
    }
   ],
   "source": [
    "data[0]"
   ]
  },
  {
   "cell_type": "code",
   "execution_count": 4,
   "metadata": {},
   "outputs": [
    {
     "data": {
      "text/plain": [
       "{'散打3': {'kcmc': '散打3', 'total': 0, 'reject': 0}}"
      ]
     },
     "execution_count": 4,
     "metadata": {},
     "output_type": "execute_result"
    }
   ],
   "source": [
    "{\n",
    "    json_data[\"ktmc_name\"]: {\n",
    "        \"kcmc\": json_data[\"ktmc_name\"],\n",
    "        \"total\": 0,\n",
    "        \"reject\": 0,\n",
    "    }\n",
    "    for json_data in data\n",
    "}"
   ]
  },
  {
   "cell_type": "code",
   "execution_count": 7,
   "metadata": {},
   "outputs": [
    {
     "data": {
      "text/plain": [
       "['编程语言基础', '*法语（1）']"
      ]
     },
     "execution_count": 7,
     "metadata": {},
     "output_type": "execute_result"
    }
   ],
   "source": [
    "[i['kcmc_name'] for i in new_data]"
   ]
  },
  {
   "cell_type": "code",
   "execution_count": null,
   "metadata": {},
   "outputs": [],
   "source": [
    "with open(\"new_json_datas.pkl\", 'wb') as f:\n",
    "    pkl.dump(new_data, f)"
   ]
  },
  {
   "cell_type": "code",
   "execution_count": 29,
   "metadata": {},
   "outputs": [
    {
     "data": {
      "text/plain": [
       "[('西方哲学：传统、经典与方法', ['聂敏里']),\n",
       " ('*日语1', ['校际交流成绩']),\n",
       " ('*日语1', ['校际交流成绩']),\n",
       " ('*法语（1）', ['校际交流成绩'])]"
      ]
     },
     "execution_count": 29,
     "metadata": {},
     "output_type": "execute_result"
    }
   ],
   "source": [
    "[(data['kcmc_name'], data['skls_name']['name']) for data in datas]"
   ]
  },
  {
   "cell_type": "code",
   "execution_count": 27,
   "metadata": {},
   "outputs": [],
   "source": [
    "del datas[0]\n",
    "del datas[1]\n"
   ]
  },
  {
   "cell_type": "code",
   "execution_count": 2,
   "metadata": {},
   "outputs": [
    {
     "name": "stdout",
     "output_type": "stream",
     "text": [
      "人民大学\n"
     ]
    }
   ],
   "source": [
    "from selenium import webdriver\n",
    "\n",
    "# 设置ChromeDriver的路径\n",
    "chrome_driver_path = 'path/to/your/chromedriver'\n",
    "\n",
    "# 设置Chrome选项（如果需要）\n",
    "chrome_options = webdriver.ChromeOptions()\n",
    "# 例如，使用无头模式运行Chrome\n",
    "# chrome_options.add_argument('--headless')\n",
    "\n",
    "# 初始化webdriver对象\n",
    "driver = webdriver.Chrome(options=chrome_options)\n",
    "\n",
    "# 使用.get方法打开网页\n",
    "driver.get('https://jw.ruc.edu.cn/Njw2017/index.html#/')\n",
    "\n",
    "# 打印当前页面的标题\n",
    "print(driver.title)\n",
    "\n",
    "# 关闭浏览器\n",
    "driver.quit()\n"
   ]
  },
  {
   "cell_type": "code",
   "execution_count": null,
   "metadata": {},
   "outputs": [],
   "source": []
  }
 ],
 "metadata": {
  "kernelspec": {
   "display_name": "RUC-Course-Selector",
   "language": "python",
   "name": "python3"
  },
  "language_info": {
   "codemirror_mode": {
    "name": "ipython",
    "version": 3
   },
   "file_extension": ".py",
   "mimetype": "text/x-python",
   "name": "python",
   "nbconvert_exporter": "python",
   "pygments_lexer": "ipython3",
   "version": "3.11.7"
  }
 },
 "nbformat": 4,
 "nbformat_minor": 2
}
